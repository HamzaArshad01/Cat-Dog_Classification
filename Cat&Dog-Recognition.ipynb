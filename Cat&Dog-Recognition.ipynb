{
 "cells": [
  {
   "cell_type": "code",
   "execution_count": 8,
   "metadata": {},
   "outputs": [],
   "source": [
    "# load dogs vs cats dataset, reshape and save to a new file\n",
    "from os import listdir\n",
    "from numpy import asarray\n",
    "from numpy import save\n",
    "from random import shuffle\n",
    "from tensorflow.keras.preprocessing.image import load_img\n",
    "from tensorflow.keras.preprocessing.image import img_to_array"
   ]
  },
  {
   "cell_type": "code",
   "execution_count": 7,
   "metadata": {},
   "outputs": [
    {
     "name": "stdout",
     "output_type": "stream",
     "text": [
      "(25000, 200, 200, 3) (25000,)\n"
     ]
    }
   ],
   "source": [
    "folder = \".\\Cat&Dog-Dataset\\\\train\"\n",
    "photos, lables = list(), list()\n",
    "for file in listdir(folder):\n",
    "    output = 0.0\n",
    "    if file.startswith('cat'):\n",
    "        output = 0.1\n",
    "    photo = load_img(folder+\"\\\\\"+file, target_size = (200, 200))\n",
    "    photo = img_to_array(photo)\n",
    "    photos.append(photo)\n",
    "    lables.append(output)\n",
    "photos = asarray(photos)\n",
    "labels = asarray(lables)\n",
    "print(photos.shape, labels.shape)"
   ]
  },
  {
   "cell_type": "code",
   "execution_count": 9,
   "metadata": {},
   "outputs": [],
   "source": [
    "c = list( zip(photos, labels))\n",
    "shuffle(c)\n",
    "photos, labels = zip(*c)"
   ]
  },
  {
   "cell_type": "code",
   "execution_count": 10,
   "metadata": {},
   "outputs": [],
   "source": [
    "save('dogs_vs_cats_photos.npy', photos)\n",
    "save('dogs_vs_cats_labels.npy', labels)"
   ]
  },
  {
   "cell_type": "code",
   "execution_count": 1,
   "metadata": {},
   "outputs": [],
   "source": [
    "from numpy import load"
   ]
  },
  {
   "cell_type": "code",
   "execution_count": 5,
   "metadata": {},
   "outputs": [
    {
     "name": "stdout",
     "output_type": "stream",
     "text": [
      "(25000, 200, 200, 3) (25000,)\n"
     ]
    }
   ],
   "source": [
    "\n",
    "photos = load('dogs_vs_cats_photos.npy')\n",
    "labels = load('dogs_vs_cats_labels.npy')\n",
    "\n",
    "print(photos.shape, lables.shape)"
   ]
  },
  {
   "cell_type": "code",
   "execution_count": 27,
   "metadata": {},
   "outputs": [
    {
     "name": "stdout",
     "output_type": "stream",
     "text": [
      "(20000, 200, 200, 3) (20000,) (5000, 200, 200, 3) (5000,)\n"
     ]
    }
   ],
   "source": [
    "train_x = photos[:int(.8*len(photos))]\n",
    "trian_y = labels[:int(.8*len(labels))]\n",
    "test_x = photos[int(.8*len(photos)):]\n",
    "test_y = labels[int(.8*len(labels)):]\n",
    "print(train_x.shape, trian_y.shape, test_x.shape, test_y.shape)"
   ]
  },
  {
   "cell_type": "code",
   "execution_count": 11,
   "metadata": {},
   "outputs": [],
   "source": [
    "train_x = train_x / 255\n",
    "test_x = test_x /255"
   ]
  },
  {
   "cell_type": "code",
   "execution_count": 13,
   "metadata": {},
   "outputs": [],
   "source": [
    "# baseline model for the dogs vs cats dataset\n",
    "import sys\n",
    "from matplotlib import pyplot\n",
    "from tensorflow.keras.utils import to_categorical\n",
    "from tensorflow.keras.models import Sequential\n",
    "from tensorflow.keras.layers import Conv2D\n",
    "from tensorflow.keras.layers import MaxPooling2D\n",
    "from tensorflow.keras.layers import Dense\n",
    "from tensorflow.keras.layers import Flatten\n",
    "from tensorflow.keras.optimizers import SGD\n",
    "from tensorflow.keras.preprocessing.image import ImageDataGenerator"
   ]
  },
  {
   "cell_type": "code",
   "execution_count": 36,
   "metadata": {},
   "outputs": [],
   "source": [
    "def define_model():\n",
    "    model = Sequential()\n",
    "    model.add(Conv2D(32, (3, 3), activation='relu', kernel_initializer='he_uniform', padding='same', input_shape=(200, 200, 3)))\n",
    "    model.add(MaxPooling2D((2, 2)))\n",
    "    model.add(Conv2D(64, (3, 3), activation='relu', kernel_initializer='he_uniform', padding='same', input_shape=(200, 200, 3)))\n",
    "    model.add(MaxPooling2D((2, 2)))\n",
    "    model.add(Flatten())\n",
    "    model.add(Dense(128, activation='relu', kernel_initializer='he_uniform'))\n",
    "    model.add(Dense(1, activation='sigmoid'))\n",
    "    # compile model\n",
    "    \n",
    "    model.compile(optimizer='adam', loss='binary_crossentropy', metrics=['accuracy'])\n",
    "    model.summary()\n",
    "    return model"
   ]
  },
  {
   "cell_type": "code",
   "execution_count": 37,
   "metadata": {},
   "outputs": [],
   "source": [
    "def summarize_diagnostics(history):\n",
    "    # plot loss\n",
    "    pyplot.subplot(211)\n",
    "    pyplot.title('Cross Entropy Loss')\n",
    "    pyplot.plot(history.history['loss'], color='blue', label='train')\n",
    "    pyplot.plot(history.history['val_loss'], color='orange', label='test')\n",
    "    # plot accuracy\n",
    "    pyplot.subplot(212)\n",
    "    pyplot.title('Classification Accuracy')\n",
    "    pyplot.plot(history.history['accuracy'], color='blue', label='train')\n",
    "    pyplot.plot(history.history['val_accuracy'], color='orange', label='test')\n",
    "    # save plot to file\n",
    "    filename = sys.argv[0].split('/')[-1]\n",
    "    pyplot.savefig(filename + '_plot.png')\n",
    "    pyplot.close()"
   ]
  },
  {
   "cell_type": "code",
   "execution_count": 38,
   "metadata": {},
   "outputs": [],
   "source": [
    "def run_test_harness():\n",
    "    # define model\n",
    "    model = define_model()\n",
    "    history = model.fit(train_x, trian_y, validation_data=(test_x, test_y), batch_size= 100, epochs = 20)\n",
    "    \n",
    "    summarize_diagnostics(history)\n",
    "    return history"
   ]
  },
  {
   "cell_type": "code",
   "execution_count": null,
   "metadata": {},
   "outputs": [
    {
     "name": "stdout",
     "output_type": "stream",
     "text": [
      "Model: \"sequential_6\"\n",
      "_________________________________________________________________\n",
      "Layer (type)                 Output Shape              Param #   \n",
      "=================================================================\n",
      "conv2d_7 (Conv2D)            (None, 200, 200, 32)      896       \n",
      "_________________________________________________________________\n",
      "max_pooling2d_7 (MaxPooling2 (None, 100, 100, 32)      0         \n",
      "_________________________________________________________________\n",
      "conv2d_8 (Conv2D)            (None, 100, 100, 64)      18496     \n",
      "_________________________________________________________________\n",
      "max_pooling2d_8 (MaxPooling2 (None, 50, 50, 64)        0         \n",
      "_________________________________________________________________\n",
      "flatten_6 (Flatten)          (None, 160000)            0         \n",
      "_________________________________________________________________\n",
      "dense_12 (Dense)             (None, 128)               20480128  \n",
      "_________________________________________________________________\n",
      "dense_13 (Dense)             (None, 1)                 129       \n",
      "=================================================================\n",
      "Total params: 20,499,649\n",
      "Trainable params: 20,499,649\n",
      "Non-trainable params: 0\n",
      "_________________________________________________________________\n",
      "Epoch 1/20\n",
      "200/200 [==============================] - 421s 2s/step - loss: 88.1240 - accuracy: 0.4936 - val_loss: 0.3025 - val_accuracy: 0.4766\n",
      "Epoch 2/20\n",
      "200/200 [==============================] - 419s 2s/step - loss: 0.2404 - accuracy: 0.5052 - val_loss: 0.2242 - val_accuracy: 0.4784\n",
      "Epoch 3/20\n",
      "200/200 [==============================] - 411s 2s/step - loss: 0.2119 - accuracy: 0.5053 - val_loss: 0.2167 - val_accuracy: 0.4784\n",
      "Epoch 4/20\n",
      "200/200 [==============================] - 424s 2s/step - loss: 0.2051 - accuracy: 0.5054 - val_loss: 0.2124 - val_accuracy: 0.4784\n",
      "Epoch 5/20\n",
      "200/200 [==============================] - 420s 2s/step - loss: 0.2010 - accuracy: 0.5054 - val_loss: 0.2103 - val_accuracy: 0.4784\n",
      "Epoch 6/20\n",
      "200/200 [==============================] - 418s 2s/step - loss: 0.1971 - accuracy: 0.5054 - val_loss: 0.2092 - val_accuracy: 0.4784\n",
      "Epoch 7/20\n",
      "200/200 [==============================] - 406s 2s/step - loss: 0.1944 - accuracy: 0.5054 - val_loss: 0.2093 - val_accuracy: 0.4784\n",
      "Epoch 8/20\n",
      "200/200 [==============================] - 413s 2s/step - loss: 0.1925 - accuracy: 0.5054 - val_loss: 0.2084 - val_accuracy: 0.4784\n",
      "Epoch 9/20\n",
      "200/200 [==============================] - 414s 2s/step - loss: 0.1907 - accuracy: 0.5054 - val_loss: 0.2086 - val_accuracy: 0.4784\n",
      "Epoch 10/20\n",
      "200/200 [==============================] - 406s 2s/step - loss: 0.1901 - accuracy: 0.5054 - val_loss: 0.2077 - val_accuracy: 0.4782\n",
      "Epoch 11/20\n",
      " 75/200 [==========>...................] - ETA: 4:05 - loss: 0.1900 - accuracy: 0.5012"
     ]
    }
   ],
   "source": [
    "score = run_test_harness()"
   ]
  },
  {
   "cell_type": "code",
   "execution_count": null,
   "metadata": {},
   "outputs": [],
   "source": []
  }
 ],
 "metadata": {
  "kernelspec": {
   "display_name": "Python 3",
   "language": "python",
   "name": "python3"
  },
  "language_info": {
   "codemirror_mode": {
    "name": "ipython",
    "version": 3
   },
   "file_extension": ".py",
   "mimetype": "text/x-python",
   "name": "python",
   "nbconvert_exporter": "python",
   "pygments_lexer": "ipython3",
   "version": "3.7.6"
  }
 },
 "nbformat": 4,
 "nbformat_minor": 4
}
